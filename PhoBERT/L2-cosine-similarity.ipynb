{
 "cells": [
  {
   "cell_type": "code",
   "execution_count": null,
   "metadata": {},
   "outputs": [],
   "source": [
    "import torch\n",
    "from transformers import AutoTokenizer, AutoModel\n",
    "import numpy as np\n",
    "\n",
    "# Khởi tạo tokenizer và mô hình PhoBERT\n",
    "tokenizer = AutoTokenizer.from_pretrained(\"vinai/phobert-base\")\n",
    "model = AutoModel.from_pretrained(\"vinai/phobert-base\")\n",
    "\n",
    "# Hàm mã hóa văn bản\n",
    "def encode_text(text, tokenizer, model):\n",
    "    inputs = tokenizer(text, return_tensors=\"pt\", padding=True, truncation=True, max_length=512)\n",
    "    with torch.no_grad():\n",
    "        outputs = model(**inputs)\n",
    "    return outputs.last_hidden_state.mean(dim=1).squeeze().numpy()\n",
    "\n",
    "# Câu truy vấn\n",
    "query = \"Tôi muốn tìm hiểu về ngôn ngữ tự nhiên\"\n",
    "\n",
    "# Văn bản cần so sánh\n",
    "documents = [\n",
    "    \"Tôi yêu học ngôn ngữ tự nhiên\",\n",
    "    \"Ngôn ngữ tự nhiên rất thú vị\",\n",
    "    \"Học ngôn ngữ tự nhiên giúp tôi hiểu văn bản tốt hơn\"\n",
    "]\n",
    "\n",
    "# Mã hóa câu truy vấn\n",
    "query_vector = encode_text(query, tokenizer, model)\n",
    "\n",
    "# Mã hóa các văn bản\n",
    "document_vectors = [encode_text(doc, tokenizer, model) for doc in documents]\n"
   ]
  },
  {
   "cell_type": "markdown",
   "metadata": {},
   "source": [
    "B2: Tính toán độ tương đồng."
   ]
  },
  {
   "cell_type": "code",
   "execution_count": null,
   "metadata": {},
   "outputs": [],
   "source": [
    "# Hàm tính độ tương đồng cosine\n",
    "def cosine_similarity(vec1, vec2):\n",
    "    return np.dot(vec1, vec2) / (np.linalg.norm(vec1) * np.linalg.norm(vec2))\n",
    "\n",
    "# Tính độ tương đồng giữa câu truy vấn và các văn bản\n",
    "similarities = [cosine_similarity(query_vector, doc_vector) for doc_vector in document_vectors]\n"
   ]
  }
 ],
 "metadata": {
  "language_info": {
   "name": "python"
  }
 },
 "nbformat": 4,
 "nbformat_minor": 2
}
