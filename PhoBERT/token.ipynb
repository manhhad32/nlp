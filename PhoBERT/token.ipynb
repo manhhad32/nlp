{
 "cells": [
  {
   "cell_type": "code",
   "execution_count": null,
   "metadata": {},
   "outputs": [],
   "source": [
    "from transformers import AutoTokenizer\n",
    "\n",
    "# Khởi tạo tokenizer PhoBERT\n",
    "tokenizer = AutoTokenizer.from_pretrained(\"vinai/phobert-base\")\n",
    "\n",
    "# Văn bản và câu truy vấn\n",
    "query = \"Tôi muốn tìm hiểu về ngôn ngữ tự nhiên\"\n",
    "documents = [\n",
    "    \"Tôi yêu học ngôn ngữ tự nhiên\",\n",
    "    \"Ngôn ngữ tự nhiên rất thú vị\",\n",
    "    \"Học ngôn ngữ tự nhiên giúp tôi hiểu văn bản tốt hơn\"\n",
    "]\n",
    "\n",
    "# Tokenization\n",
    "query_tokens = tokenizer.tokenize(query)\n",
    "document_tokens = [tokenizer.tokenize(doc) for doc in documents]\n",
    "\n",
    "print(\"Query Tokens:\", query_tokens)\n",
    "print('\\n Document token: \\n')\n",
    "print(\"Document Tokens:\", document_tokens)\n"
   ]
  }
 ],
 "metadata": {
  "language_info": {
   "name": "python"
  }
 },
 "nbformat": 4,
 "nbformat_minor": 2
}
