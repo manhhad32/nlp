{
 "cells": [
  {
   "cell_type": "code",
   "execution_count": 1,
   "metadata": {},
   "outputs": [
    {
     "ename": "ModuleNotFoundError",
     "evalue": "No module named 'torch'",
     "output_type": "error",
     "traceback": [
      "\u001b[0;31m---------------------------------------------------------------------------\u001b[0m",
      "\u001b[0;31mModuleNotFoundError\u001b[0m                       Traceback (most recent call last)",
      "Cell \u001b[0;32mIn[1], line 1\u001b[0m\n\u001b[0;32m----> 1\u001b[0m \u001b[38;5;28;01mimport\u001b[39;00m \u001b[38;5;21;01mtorch\u001b[39;00m\n\u001b[1;32m      2\u001b[0m \u001b[38;5;28;01mfrom\u001b[39;00m \u001b[38;5;21;01mtransformers\u001b[39;00m \u001b[38;5;28;01mimport\u001b[39;00m AutoModel, AutoTokenizer\n\u001b[1;32m      3\u001b[0m \u001b[38;5;28;01mfrom\u001b[39;00m \u001b[38;5;21;01msklearn\u001b[39;00m\u001b[38;5;21;01m.\u001b[39;00m\u001b[38;5;21;01msvm\u001b[39;00m \u001b[38;5;28;01mimport\u001b[39;00m SVC\n",
      "\u001b[0;31mModuleNotFoundError\u001b[0m: No module named 'torch'"
     ]
    }
   ],
   "source": [
    "import torch\n",
    "from transformers import AutoModel, AutoTokenizer\n",
    "from sklearn.svm import SVC\n",
    "from sklearn.metrics import accuracy_score\n",
    "import numpy as np\n"
   ]
  },
  {
   "cell_type": "markdown",
   "metadata": {},
   "source": [
    "Bước 1: Chuẩn Bị Dữ Liệu"
   ]
  },
  {
   "cell_type": "code",
   "execution_count": null,
   "metadata": {},
   "outputs": [],
   "source": [
    "queries = [\"PhoBERT là một mô hình mạnh mẽ.\", \"Học sâu là tương lai của AI.\"]\n",
    "documents = [\"PhoBERT được phát triển bởi VinAI.\", \"Học sâu cần nhiều dữ liệu và tính toán.\"]\n",
    "labels = [1, 0, 2, 0]  # Cần đảm bảo số lượng nhãn khớp với số mẫu\n"
   ]
  },
  {
   "cell_type": "markdown",
   "metadata": {},
   "source": [
    "Bước 2: Trích Xuất Đặc Trưng từ PhoBERT"
   ]
  },
  {
   "cell_type": "code",
   "execution_count": null,
   "metadata": {},
   "outputs": [],
   "source": [
    "tokenizer = AutoTokenizer.from_pretrained(\"vinai/phobert-base\")\n",
    "model = AutoModel.from_pretrained(\"vinai/phobert-base\")\n",
    "\n",
    "def get_embeddings(texts):\n",
    "    inputs = tokenizer(texts, padding=True, truncation=True, return_tensors=\"pt\")\n",
    "    with torch.no_grad():\n",
    "        outputs = model(**inputs)\n",
    "    return outputs.last_hidden_state[:, 0, :].cpu().numpy()  # Sử dụng embedding của token [CLS]\n",
    "\n",
    "query_embeddings = get_embeddings(queries)\n",
    "document_embeddings = get_embeddings(documents)\n",
    "\n",
    "# In kích thước của các embeddings\n",
    "print(f\"Query embeddings shape: {query_embeddings.shape}\")  # (2, 768)\n",
    "print(f\"Document embeddings shape: {document_embeddings.shape}\")  # (2, 768)"
   ]
  },
  {
   "cell_type": "markdown",
   "metadata": {},
   "source": [
    "Bước 3: Kết Hợp Embeddings và Kiểm Tra Dữ Liệu"
   ]
  },
  {
   "cell_type": "code",
   "execution_count": null,
   "metadata": {},
   "outputs": [],
   "source": [
    "# Kết hợp embeddings của queries và documents\n",
    "X = np.concatenate((query_embeddings, document_embeddings), axis=0)\n",
    "y = np.array(labels)\n",
    "\n",
    "# In kích thước và nội dung của X và y\n",
    "print(f\"Shape of X: {X.shape}\")  # (4, 768)\n",
    "print(f\"Shape of y: {y.shape}\")  # (2,)\n",
    "print(\"X:\", X)\n",
    "print(\"y:\", y)\n",
    "\n",
    "# Đảm bảo rằng y có đúng dạng (số mẫu,)\n",
    "assert len(y.shape) == 1, \"y phải có dạng (số mẫu,)\"\n",
    "assert X.shape[0] == y.shape[0], \"Số lượng mẫu trong X và y phải khớp nhau\"\n"
   ]
  },
  {
   "cell_type": "markdown",
   "metadata": {},
   "source": [
    "Bước 4: Huấn Luyện Mô Hình SVM"
   ]
  },
  {
   "cell_type": "code",
   "execution_count": null,
   "metadata": {},
   "outputs": [],
   "source": [
    "svm_model = SVC(kernel='linear')\n",
    "svm_model.fit(X, y)"
   ]
  },
  {
   "cell_type": "markdown",
   "metadata": {},
   "source": [
    "B5: Đánh giá mô hình"
   ]
  },
  {
   "cell_type": "code",
   "execution_count": null,
   "metadata": {},
   "outputs": [],
   "source": [
    "# Tạo dữ liệu kiểm tra mẫu\n",
    "test_queries = [\"PhoBERT là một công cụ hữu ích.\", \"AI cần sự tham gia của con người.\"]\n",
    "test_documents = [\"PhoBERT giúp phân tích văn bản tốt hơn.\", \"AI có thể tự động hóa nhiều công việc.\"]\n",
    "\n",
    "test_query_embeddings = get_embeddings(test_queries)\n",
    "test_document_embeddings = get_embeddings(test_documents)\n",
    "\n",
    "# In kích thước của các embeddings kiểm tra\n",
    "print(f\"Test query embeddings shape: {test_query_embeddings.shape}\")  # (2, 768)\n",
    "print(f\"Test document embeddings shape: {test_document_embeddings.shape}\")  # (2, 768)\n",
    "\n",
    "# Kết hợp embeddings của queries và documents cho tập kiểm tra\n",
    "X_test = np.concatenate((test_query_embeddings, test_document_embeddings), axis=0)\n",
    "y_test = np.array([1, 0, 1, 0])  # Nhãn thực tế cho dữ liệu kiểm tra\n",
    "\n",
    "# In kích thước và nội dung của X_test và y_test\n",
    "print(f\"Shape of X_test: {X_test.shape}\")  # (4, 768)\n",
    "print(f\"Shape of y_test: {y_test.shape}\")  # (4,)\n",
    "print(\"X_test:\", X_test)\n",
    "print(\"y_test:\", y_test)\n",
    "\n",
    "# Dự đoán với mô hình SVM\n",
    "y_pred = svm_model.predict(X_test)\n",
    "\n",
    "# In kích thước và nội dung của y_pred\n",
    "print(f\"Shape of y_pred: {y_pred.shape}\")  # (4,)\n",
    "print(\"y_pred:\", y_pred)\n",
    "\n",
    "# Tính toán độ chính xác\n",
    "accuracy = accuracy_score(y_test, y_pred)\n",
    "print(f\"Accuracy: {accuracy * 100:.2f}%\")"
   ]
  }
 ],
 "metadata": {
  "kernelspec": {
   "display_name": "Python 3",
   "language": "python",
   "name": "python3"
  },
  "language_info": {
   "codemirror_mode": {
    "name": "ipython",
    "version": 3
   },
   "file_extension": ".py",
   "mimetype": "text/x-python",
   "name": "python",
   "nbconvert_exporter": "python",
   "pygments_lexer": "ipython3",
   "version": "3.10.11"
  }
 },
 "nbformat": 4,
 "nbformat_minor": 2
}
