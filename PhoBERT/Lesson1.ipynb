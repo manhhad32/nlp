{
 "cells": [
  {
   "cell_type": "markdown",
   "metadata": {},
   "source": [
    "Chuẩn Bị Dữ Liệu\n",
    "\n",
    "Giả sử chúng ta có các cặp câu và nhãn tương ứng:"
   ]
  },
  {
   "cell_type": "code",
   "execution_count": null,
   "metadata": {},
   "outputs": [],
   "source": [
    "import torch\n",
    "\n",
    "queries = [\"PhoBERT là một mô hình mạnh mẽ.\", \"Học sâu là tương lai của AI.\"]\n",
    "documents = [\"PhoBERT được phát triển bởi VinAI.\", \"Học sâu cần nhiều dữ liệu và tính toán.\"]\n",
    "labels = [1, 0]  # 1: tương đồng, 0: không tương đồng\n"
   ]
  },
  {
   "cell_type": "markdown",
   "metadata": {},
   "source": [
    "Tạo Embeddings Bằng PhoBERT"
   ]
  },
  {
   "cell_type": "code",
   "execution_count": null,
   "metadata": {},
   "outputs": [],
   "source": [
    "from transformers import AutoModel, AutoTokenizer\n",
    "\n",
    "tokenizer = AutoTokenizer.from_pretrained(\"vinai/phobert-base\")\n",
    "model = AutoModel.from_pretrained(\"vinai/phobert-base\")\n",
    "\n",
    "def get_embeddings(texts):\n",
    "    inputs = tokenizer(texts, padding=True, truncation=True, return_tensors=\"pt\")\n",
    "    with torch.no_grad():\n",
    "        outputs = model(**inputs)\n",
    "    return outputs.last_hidden_state[:, 0, :]  # Sử dụng embedding của token [CLS]\n",
    "\n",
    "query_embeddings = get_embeddings(queries)\n",
    "document_embeddings = get_embeddings(documents)\n"
   ]
  },
  {
   "cell_type": "markdown",
   "metadata": {},
   "source": [
    "Tính Toán Sự Tương Đồng\n",
    "\n",
    "Có nhiều cách để tính toán sự tương đồng giữa hai vectors. Một cách phổ biến là sử dụng cosine similarity:"
   ]
  },
  {
   "cell_type": "code",
   "execution_count": null,
   "metadata": {},
   "outputs": [],
   "source": [
    "import torch.nn.functional as F\n",
    "\n",
    "similarities = F.cosine_similarity(query_embeddings, document_embeddings)\n",
    "print(similarities)\n"
   ]
  },
  {
   "cell_type": "markdown",
   "metadata": {},
   "source": [
    "Sử Dụng Lớp Phân Loại và CrossEntropyLoss\n",
    "\n",
    "Nếu bạn muốn sử dụng lớp phân loại để dự đoán nhãn của cặp câu, bạn có thể làm như sau:"
   ]
  },
  {
   "cell_type": "code",
   "execution_count": null,
   "metadata": {},
   "outputs": [],
   "source": [
    "import torch.nn as nn\n",
    "\n",
    "class SimilarityClassifier(nn.Module):\n",
    "    def __init__(self):\n",
    "        super(SimilarityClassifier, self).__init__()\n",
    "        self.phobert = AutoModel.from_pretrained(\"vinai/phobert-base\")\n",
    "        self.classifier = nn.Linear(768, 2)  # 2 lớp: tương đồng và không tương đồng\n",
    "\n",
    "    def forward(self, input_ids, attention_mask):\n",
    "        outputs = self.phobert(input_ids=input_ids, attention_mask=attention_mask)\n",
    "        cls_output = outputs.last_hidden_state[:, 0, :]  # Sử dụng embedding của token [CLS]\n",
    "        logits = self.classifier(cls_output)\n",
    "        return logits\n",
    "\n",
    "# Chuẩn bị dữ liệu\n",
    "inputs = tokenizer(queries + documents, padding=True, truncation=True, return_tensors=\"pt\")\n",
    "labels = torch.tensor(labels)\n",
    "\n",
    "# Tạo mô hình và hàm mất mát\n",
    "model = SimilarityClassifier()\n",
    "criterion = nn.CrossEntropyLoss()\n",
    "\n",
    "# Dự đoán và tính toán mất mát\n",
    "logits = model(inputs['input_ids'], inputs['attention_mask'])\n",
    "loss = criterion(logits, labels)\n",
    "print(f\"Loss: {loss.item()}\")\n"
   ]
  }
 ],
 "metadata": {
  "language_info": {
   "name": "python"
  }
 },
 "nbformat": 4,
 "nbformat_minor": 2
}
