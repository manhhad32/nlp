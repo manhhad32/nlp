{
  "nbformat": 4,
  "nbformat_minor": 0,
  "metadata": {
    "colab": {
      "provenance": [],
      "authorship_tag": "ABX9TyMyca48mkPl8UCFay7r8Nnt",
      "include_colab_link": true
    },
    "kernelspec": {
      "name": "python3",
      "display_name": "Python 3"
    },
    "language_info": {
      "name": "python"
    }
  },
  "cells": [
    {
      "cell_type": "markdown",
      "metadata": {
        "id": "view-in-github",
        "colab_type": "text"
      },
      "source": [
        "<a href=\"https://colab.research.google.com/github/manhhad32/nlp/blob/master/Doc2vecEX.ipynb\" target=\"_parent\"><img src=\"https://colab.research.google.com/assets/colab-badge.svg\" alt=\"Open In Colab\"/></a>"
      ]
    },
    {
      "cell_type": "code",
      "execution_count": 1,
      "metadata": {
        "id": "Qd_Aop1zNwYV"
      },
      "outputs": [],
      "source": [
        "from gensim.models.doc2vec import Doc2Vec, TaggedDocument"
      ]
    },
    {
      "cell_type": "code",
      "source": [
        "# Sample data\n",
        "documents = [\n",
        "    \"Tôi yêu môn học máy.\",\n",
        "    \"Doc2Vec là một thuật toán tốt.\",\n",
        "    \"Gensim dễ dàng để sử dụng Doc2Vec\",\n",
        "    \"Máy học là tuyệt vời\",\n",
        "]\n",
        "\n",
        "# Tagging the documents\n",
        "tagged_data = [TaggedDocument(words=doc.split(), tags=[str(i)]) for i, doc in enumerate(documents)]\n",
        "\n",
        "# Creating a Doc2Vec model\n",
        "model = Doc2Vec(tagged_data, vector_size=20, window=2, min_count=1, epochs=100)\n",
        "\n",
        "# Getting the vector for a document\n",
        "vector = model.infer_vector([\"Tôi\", \"yêu\", \"Doc2Vec\"])\n",
        "\n",
        "print(vector)"
      ],
      "metadata": {
        "colab": {
          "base_uri": "https://localhost:8080/"
        },
        "id": "Q41Z7VZAN5Ws",
        "outputId": "10e7fd31-7923-4c43-8964-408daccf6a0c"
      },
      "execution_count": 6,
      "outputs": [
        {
          "output_type": "stream",
          "name": "stdout",
          "text": [
            "[-0.00124056  0.00554636 -0.01552275 -0.02198639  0.00758097 -0.02869836\n",
            " -0.00818516 -0.00896744 -0.00658493  0.01103215 -0.01425357 -0.0046634\n",
            " -0.01678239 -0.01956003  0.01689603 -0.01333774  0.01000528  0.00787784\n",
            " -0.0253903   0.00739197]\n"
          ]
        }
      ]
    },
    {
      "cell_type": "markdown",
      "source": [],
      "metadata": {
        "id": "swr6X_XnN5Da"
      }
    }
  ]
}