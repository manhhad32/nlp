{
  "nbformat": 4,
  "nbformat_minor": 0,
  "metadata": {
    "colab": {
      "provenance": [],
      "authorship_tag": "ABX9TyOEVbBLQgye9RqU/rsWFEhu",
      "include_colab_link": true
    },
    "kernelspec": {
      "name": "python3",
      "display_name": "Python 3"
    },
    "language_info": {
      "name": "python"
    }
  },
  "cells": [
    {
      "cell_type": "markdown",
      "metadata": {
        "id": "view-in-github",
        "colab_type": "text"
      },
      "source": [
        "<a href=\"https://colab.research.google.com/github/manhhad32/nlp/blob/master/Doc2VecTinhtoandtd.ipynb\" target=\"_parent\"><img src=\"https://colab.research.google.com/assets/colab-badge.svg\" alt=\"Open In Colab\"/></a>"
      ]
    },
    {
      "cell_type": "markdown",
      "source": [
        "Bước 1: Chuẩn Bị Dữ Liệu"
      ],
      "metadata": {
        "id": "8SPDRqmj8Yp-"
      }
    },
    {
      "cell_type": "code",
      "execution_count": 1,
      "metadata": {
        "id": "aQ7vM5iZ8Puy"
      },
      "outputs": [],
      "source": [
        "from gensim.models.doc2vec import TaggedDocument\n",
        "import gensim\n",
        "\n",
        "# Dữ liệu văn bản\n",
        "documents = [\n",
        "    \"Tôi yêu học ngôn ngữ tự nhiên\",\n",
        "    \"Ngôn ngữ tự nhiên rất thú vị\",\n",
        "    \"Học ngôn ngữ tự nhiên giúp tôi hiểu văn bản tốt hơn\"\n",
        "]\n",
        "\n",
        "# Gán nhãn cho các tài liệu\n",
        "tagged_documents = [TaggedDocument(doc.split(), [i]) for i, doc in enumerate(documents)]\n"
      ]
    },
    {
      "cell_type": "markdown",
      "source": [
        "Bước 2: Huấn Luyện Mô Hình\n"
      ],
      "metadata": {
        "id": "wlbeVtJW8XxC"
      }
    },
    {
      "cell_type": "code",
      "source": [
        "# Khởi tạo và huấn luyện mô hình Doc2Vec\n",
        "model = gensim.models.Doc2Vec(vector_size=100, window=2, min_count=1, workers=4, epochs=40)\n",
        "model.build_vocab(tagged_documents)\n",
        "model.train(tagged_documents, total_examples=model.corpus_count, epochs=model.epochs)\n"
      ],
      "metadata": {
        "id": "EIBoNBEt8dvX"
      },
      "execution_count": 2,
      "outputs": []
    },
    {
      "cell_type": "markdown",
      "source": [
        "Bước 3: Mã Hóa Câu Truy Vấn và Văn Bản\n"
      ],
      "metadata": {
        "id": "_MJ3Ntz78hLT"
      }
    },
    {
      "cell_type": "code",
      "source": [
        "# Câu truy vấn\n",
        "query = \"Tôi muốn tìm hiểu về ngôn ngữ tự nhiên\"\n",
        "query_vector = model.infer_vector(query.split())\n",
        "\n",
        "# Mã hóa các văn bản đã huấn luyện\n",
        "document_vectors = [model.dv[i] for i in range(len(documents))]\n"
      ],
      "metadata": {
        "id": "EtpRoIh48kPO"
      },
      "execution_count": 3,
      "outputs": []
    },
    {
      "cell_type": "markdown",
      "source": [
        "Bước 4: Tính Toán Độ Tương Đồng"
      ],
      "metadata": {
        "id": "onL6wJzs8qD9"
      }
    },
    {
      "cell_type": "code",
      "source": [
        "import numpy as np\n",
        "\n",
        "# Hàm tính độ tương đồng cosine\n",
        "def cosine_similarity(vec1, vec2):\n",
        "    return np.dot(vec1, vec2) / (np.linalg.norm(vec1) * np.linalg.norm(vec2))\n",
        "\n",
        "# Tính độ tương đồng giữa câu truy vấn và các văn bản\n",
        "similarities = [cosine_similarity(query_vector, doc_vector) for doc_vector in document_vectors]\n",
        "\n",
        "# Sắp xếp các văn bản theo độ tương đồng giảm dần\n",
        "sorted_docs = sorted(zip(documents, similarities), key=lambda x: x[1], reverse=True)\n",
        "\n",
        "# In ra các văn bản có độ tương đồng cao nhất\n",
        "for doc, similarity in sorted_docs:\n",
        "    print(f\"Document: {doc}, Similarity: {similarity}\")\n"
      ],
      "metadata": {
        "colab": {
          "base_uri": "https://localhost:8080/"
        },
        "id": "kZFBOSaY8sAA",
        "outputId": "52bb4cf4-3907-4531-f816-3ac6d8d55294"
      },
      "execution_count": 4,
      "outputs": [
        {
          "output_type": "stream",
          "name": "stdout",
          "text": [
            "Document: Học ngôn ngữ tự nhiên giúp tôi hiểu văn bản tốt hơn, Similarity: 0.07464040070772171\n",
            "Document: Tôi yêu học ngôn ngữ tự nhiên, Similarity: 0.006966250017285347\n",
            "Document: Ngôn ngữ tự nhiên rất thú vị, Similarity: -0.1045224592089653\n"
          ]
        }
      ]
    }
  ]
}