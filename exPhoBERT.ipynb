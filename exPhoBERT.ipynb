{
  "nbformat": 4,
  "nbformat_minor": 0,
  "metadata": {
    "colab": {
      "provenance": [],
      "authorship_tag": "ABX9TyNw4o01mcO10lYUyWrS5w2L",
      "include_colab_link": true
    },
    "kernelspec": {
      "name": "python3",
      "display_name": "Python 3"
    },
    "language_info": {
      "name": "python"
    }
  },
  "cells": [
    {
      "cell_type": "markdown",
      "metadata": {
        "id": "view-in-github",
        "colab_type": "text"
      },
      "source": [
        "<a href=\"https://colab.research.google.com/github/manhhad32/nlp/blob/master/exPhoBERT.ipynb\" target=\"_parent\"><img src=\"https://colab.research.google.com/assets/colab-badge.svg\" alt=\"Open In Colab\"/></a>"
      ]
    },
    {
      "cell_type": "markdown",
      "source": [
        "Dưới đây là cách tải và sử dụng PhoBERT cho một tác vụ như phân loại văn bản:"
      ],
      "metadata": {
        "id": "mbfpOOU9HuwG"
      }
    },
    {
      "cell_type": "code",
      "source": [
        "from transformers import AutoModel, AutoTokenizer\n",
        "\n",
        "# Tải mô hình PhoBERT và tokenizer\n",
        "model = AutoModel.from_pretrained(\"vinai/phobert-base\")\n",
        "tokenizer = AutoTokenizer.from_pretrained(\"vinai/phobert-base\")\n",
        "\n",
        "# Mẫu văn bản tiếng Việt\n",
        "text = \"PhoBERT là một mô hình mạnh mẽ cho tiếng Việt.\"\n",
        "\n",
        "# Tokenize văn bản\n",
        "inputs = tokenizer(text, return_tensors=\"pt\")\n",
        "\n",
        "# Tạo embedding từ mô hình PhoBERT\n",
        "outputs = model(**inputs)\n",
        "\n",
        "# Đầu ra của PhoBERT\n",
        "last_hidden_states = outputs.last_hidden_state\n",
        "print(last_hidden_states)\n"
      ],
      "metadata": {
        "colab": {
          "base_uri": "https://localhost:8080/"
        },
        "id": "7-vlqRA4Hlma",
        "outputId": "ba02318b-5680-4457-c2c9-c4b10025f932"
      },
      "execution_count": 13,
      "outputs": [
        {
          "output_type": "stream",
          "name": "stdout",
          "text": [
            "tensor([[[ 0.1177,  0.3734, -0.7098,  ..., -0.3446,  0.2745, -0.1793],\n",
            "         [ 0.1052,  0.4616, -0.4968,  ..., -0.5583,  0.0744,  0.0508],\n",
            "         [ 0.0632,  0.6439, -0.2283,  ..., -0.4015,  0.1891, -0.0091],\n",
            "         ...,\n",
            "         [ 0.2425,  0.5334, -0.2021,  ...,  0.0661,  0.1878, -0.0437],\n",
            "         [ 0.1909,  0.5635,  0.0697,  ...,  0.1532,  0.1026, -0.1234],\n",
            "         [ 0.0503,  0.3339, -0.5908,  ..., -0.2530,  0.0211, -0.2728]]],\n",
            "       grad_fn=<NativeLayerNormBackward0>)\n"
          ]
        }
      ]
    },
    {
      "cell_type": "markdown",
      "source": [
        "Chuẩn Bị Dữ Liệu\n",
        "Giả sử chúng ta có một tập dữ liệu phân loại văn bản với các nhãn \"positive\" và \"negative\"."
      ],
      "metadata": {
        "id": "bELhzPhHGdgl"
      }
    },
    {
      "cell_type": "code",
      "source": [
        "# Mẫu dữ liệu\n",
        "texts = [\"Tôi rất thích sản phẩm này!\", \"Sản phẩm này thật tệ.\"]\n",
        "labels = [1, 0]  # 1: positive, 0: negative\n"
      ],
      "metadata": {
        "id": "PV_PYmFrFpDr"
      },
      "execution_count": 14,
      "outputs": []
    },
    {
      "cell_type": "markdown",
      "source": [
        "Tokenize Dữ Liệu"
      ],
      "metadata": {
        "id": "S0tu9Dz4GWWt"
      }
    },
    {
      "cell_type": "code",
      "source": [
        "from transformers import AutoTokenizer\n",
        "\n",
        "tokenizer = AutoTokenizer.from_pretrained(\"vinai/phobert-base\")\n",
        "inputs = tokenizer(texts, padding=True, truncation=True, return_tensors=\"pt\")\n"
      ],
      "metadata": {
        "colab": {
          "base_uri": "https://localhost:8080/"
        },
        "id": "RksXDGqyFrrN",
        "outputId": "70bd8c11-7c0b-4fa3-bf0a-e23cfbed6b05"
      },
      "execution_count": 15,
      "outputs": [
        {
          "output_type": "stream",
          "name": "stderr",
          "text": [
            "Asking to truncate to max_length but no maximum length is provided and the model has no predefined maximum length. Default to no truncation.\n"
          ]
        }
      ]
    },
    {
      "cell_type": "markdown",
      "source": [
        "Tạo DataLoader"
      ],
      "metadata": {
        "id": "jDvCSBLjGS7e"
      }
    },
    {
      "cell_type": "code",
      "source": [
        "import torch\n",
        "from torch.utils.data import DataLoader, TensorDataset\n",
        "\n",
        "labels = torch.tensor(labels)\n",
        "dataset = TensorDataset(inputs['input_ids'], inputs['attention_mask'], labels)\n",
        "dataloader = DataLoader(dataset, batch_size=2)\n"
      ],
      "metadata": {
        "id": "YbytpiXIFxNX"
      },
      "execution_count": 16,
      "outputs": []
    },
    {
      "cell_type": "markdown",
      "source": [
        "Xây Dựng Mô Hình"
      ],
      "metadata": {
        "id": "xPVBM14RGMew"
      }
    },
    {
      "cell_type": "code",
      "source": [
        "import torch.nn as nn\n",
        "from transformers import AutoModel\n",
        "\n",
        "class PhoBERTClassifier(nn.Module):\n",
        "    def __init__(self):\n",
        "        super(PhoBERTClassifier, self).__init__()\n",
        "        self.phobert = AutoModel.from_pretrained(\"vinai/phobert-base\")\n",
        "        self.classifier = nn.Linear(768, 2)  # PhoBERT base có đầu ra 768 chiều\n",
        "\n",
        "    def forward(self, input_ids, attention_mask):\n",
        "        outputs = self.phobert(input_ids=input_ids, attention_mask=attention_mask)\n",
        "        cls_output = outputs.last_hidden_state[:, 0, :]  # Lấy embedding của token [CLS]\n",
        "        logits = self.classifier(cls_output)\n",
        "        return logits\n",
        "\n",
        "model = PhoBERTClassifier()\n"
      ],
      "metadata": {
        "id": "b1xQZ97gF3bd"
      },
      "execution_count": 17,
      "outputs": []
    },
    {
      "cell_type": "markdown",
      "source": [
        "Huấn Luyện Mô Hình"
      ],
      "metadata": {
        "id": "2TRA0G_IGGpT"
      }
    },
    {
      "cell_type": "code",
      "source": [
        "from transformers import AdamW\n",
        "\n",
        "optimizer = AdamW(model.parameters(), lr=1e-5)\n",
        "\n",
        "# Vòng lặp huấn luyện đơn giản\n",
        "for epoch in range(3):\n",
        "    for batch in dataloader:\n",
        "        input_ids, attention_mask, labels = batch\n",
        "        optimizer.zero_grad()\n",
        "        outputs = model(input_ids, attention_mask)\n",
        "        loss = nn.CrossEntropyLoss()(outputs, labels)\n",
        "        loss.backward()\n",
        "        optimizer.step()\n",
        "        print(f\"Loss: {loss.item()}\")\n"
      ],
      "metadata": {
        "colab": {
          "base_uri": "https://localhost:8080/"
        },
        "id": "iORPpVBuF9Tl",
        "outputId": "87f4fc53-be5b-4149-8b93-a9b467b5428a"
      },
      "execution_count": 20,
      "outputs": [
        {
          "output_type": "stream",
          "name": "stdout",
          "text": [
            "Loss: 0.1432359516620636\n",
            "Loss: 0.1121024340391159\n",
            "Loss: 0.07950952649116516\n"
          ]
        }
      ]
    }
  ]
}