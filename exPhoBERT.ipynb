{
  "nbformat": 4,
  "nbformat_minor": 0,
  "metadata": {
    "colab": {
      "provenance": [],
      "authorship_tag": "ABX9TyOWNAyyn05nFf5u9/cFOdzp",
      "include_colab_link": true
    },
    "kernelspec": {
      "name": "python3",
      "display_name": "Python 3"
    },
    "language_info": {
      "name": "python"
    }
  },
  "cells": [
    {
      "cell_type": "markdown",
      "metadata": {
        "id": "view-in-github",
        "colab_type": "text"
      },
      "source": [
        "<a href=\"https://colab.research.google.com/github/manhhad32/nlp/blob/master/exPhoBERT.ipynb\" target=\"_parent\"><img src=\"https://colab.research.google.com/assets/colab-badge.svg\" alt=\"Open In Colab\"/></a>"
      ]
    },
    {
      "cell_type": "markdown",
      "source": [
        "Chuẩn Bị Dữ Liệu\n",
        "Giả sử chúng ta có một tập dữ liệu phân loại văn bản với các nhãn \"positive\" và \"negative\"."
      ],
      "metadata": {
        "id": "bELhzPhHGdgl"
      }
    },
    {
      "cell_type": "code",
      "source": [
        "# Mẫu dữ liệu\n",
        "texts = [\"Tôi rất thích sản phẩm này!\", \"Sản phẩm này thật tệ.\"]\n",
        "labels = [1, 0]  # 1: positive, 0: negative\n"
      ],
      "metadata": {
        "id": "PV_PYmFrFpDr"
      },
      "execution_count": 2,
      "outputs": []
    },
    {
      "cell_type": "markdown",
      "source": [
        "Tokenize Dữ Liệu"
      ],
      "metadata": {
        "id": "S0tu9Dz4GWWt"
      }
    },
    {
      "cell_type": "markdown",
      "source": [],
      "metadata": {
        "id": "_jadMeD9Ga4L"
      }
    },
    {
      "cell_type": "markdown",
      "source": [],
      "metadata": {
        "id": "4lbUyAGfGbDp"
      }
    },
    {
      "cell_type": "markdown",
      "source": [],
      "metadata": {
        "id": "INIsz8H5GZ5z"
      }
    },
    {
      "cell_type": "code",
      "source": [
        "from transformers import AutoTokenizer\n",
        "\n",
        "tokenizer = AutoTokenizer.from_pretrained(\"vinai/phobert-base\")\n",
        "inputs = tokenizer(texts, padding=True, truncation=True, return_tensors=\"pt\")\n"
      ],
      "metadata": {
        "colab": {
          "base_uri": "https://localhost:8080/"
        },
        "id": "RksXDGqyFrrN",
        "outputId": "676596f8-f233-4bcc-eb66-bc086e225fc6"
      },
      "execution_count": 3,
      "outputs": [
        {
          "output_type": "stream",
          "name": "stderr",
          "text": [
            "Asking to truncate to max_length but no maximum length is provided and the model has no predefined maximum length. Default to no truncation.\n"
          ]
        }
      ]
    },
    {
      "cell_type": "markdown",
      "source": [
        "Tạo DataLoader"
      ],
      "metadata": {
        "id": "jDvCSBLjGS7e"
      }
    },
    {
      "cell_type": "code",
      "source": [
        "import torch\n",
        "from torch.utils.data import DataLoader, TensorDataset\n",
        "\n",
        "labels = torch.tensor(labels)\n",
        "dataset = TensorDataset(inputs['input_ids'], inputs['attention_mask'], labels)\n",
        "dataloader = DataLoader(dataset, batch_size=2)\n"
      ],
      "metadata": {
        "id": "YbytpiXIFxNX"
      },
      "execution_count": 4,
      "outputs": []
    },
    {
      "cell_type": "markdown",
      "source": [
        "Xây Dựng Mô Hình"
      ],
      "metadata": {
        "id": "xPVBM14RGMew"
      }
    },
    {
      "cell_type": "code",
      "source": [
        "import torch.nn as nn\n",
        "from transformers import AutoModel\n",
        "\n",
        "class PhoBERTClassifier(nn.Module):\n",
        "    def __init__(self):\n",
        "        super(PhoBERTClassifier, self).__init__()\n",
        "        self.phobert = AutoModel.from_pretrained(\"vinai/phobert-base\")\n",
        "        self.classifier = nn.Linear(768, 2)  # PhoBERT base có đầu ra 768 chiều\n",
        "\n",
        "    def forward(self, input_ids, attention_mask):\n",
        "        outputs = self.phobert(input_ids=input_ids, attention_mask=attention_mask)\n",
        "        cls_output = outputs.last_hidden_state[:, 0, :]  # Lấy embedding của token [CLS]\n",
        "        logits = self.classifier(cls_output)\n",
        "        return logits\n",
        "\n",
        "model = PhoBERTClassifier()\n"
      ],
      "metadata": {
        "id": "b1xQZ97gF3bd"
      },
      "execution_count": 5,
      "outputs": []
    },
    {
      "cell_type": "markdown",
      "source": [
        "Huấn Luyện Mô Hình"
      ],
      "metadata": {
        "id": "2TRA0G_IGGpT"
      }
    },
    {
      "cell_type": "code",
      "source": [
        "from transformers import AdamW\n",
        "\n",
        "optimizer = AdamW(model.parameters(), lr=1e-5)\n",
        "\n",
        "# Vòng lặp huấn luyện đơn giản\n",
        "for epoch in range(3):\n",
        "    for batch in dataloader:\n",
        "        input_ids, attention_mask, labels = batch\n",
        "        optimizer.zero_grad()\n",
        "        outputs = model(input_ids, attention_mask)\n",
        "        loss = nn.CrossEntropyLoss()(outputs, labels)\n",
        "        loss.backward()\n",
        "        optimizer.step()\n",
        "        print(f\"Loss: {loss.item()}\")\n"
      ],
      "metadata": {
        "colab": {
          "base_uri": "https://localhost:8080/"
        },
        "id": "iORPpVBuF9Tl",
        "outputId": "5817014d-529f-49b9-ec6e-b6e4526acf35"
      },
      "execution_count": 6,
      "outputs": [
        {
          "output_type": "stream",
          "name": "stderr",
          "text": [
            "/usr/local/lib/python3.10/dist-packages/transformers/optimization.py:591: FutureWarning: This implementation of AdamW is deprecated and will be removed in a future version. Use the PyTorch implementation torch.optim.AdamW instead, or set `no_deprecation_warning=True` to disable this warning\n",
            "  warnings.warn(\n"
          ]
        },
        {
          "output_type": "stream",
          "name": "stdout",
          "text": [
            "Loss: 0.6325210332870483\n",
            "Loss: 0.4885522127151489\n",
            "Loss: 0.40212178230285645\n"
          ]
        }
      ]
    }
  ]
}